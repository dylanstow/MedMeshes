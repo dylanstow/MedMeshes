{
 "cells": [
  {
   "cell_type": "markdown",
   "metadata": {},
   "source": [
    "# 3D Mesh Analysis\n",
    "This notebook contains methods for 3D mesh analysis and visualization. It is dependent on the __plotly__ package for data and mesh visualization, and on common scipy packages like __numpy__ for data processing. All geometric features are computed natively without other external dependencies to ensure correctness.\n"
   ]
  },
  {
   "cell_type": "code",
   "execution_count": 1,
   "metadata": {
    "scrolled": true
   },
   "outputs": [
    {
     "name": "stdout",
     "output_type": "stream",
     "text": [
      "Plotly:  3.10.0\n",
      "NumPy:  1.16.3\n",
      "Matplotlib:  3.0.3\n"
     ]
    }
   ],
   "source": [
    "#Setup and check required packages\n",
    "import plotly\n",
    "import plotly.graph_objs as go\n",
    "import plotly.tools as tls\n",
    "from plotly.offline import download_plotlyjs, init_notebook_mode, iplot\n",
    "print(\"Plotly: \",plotly.__version__)\n",
    "import numpy as np\n",
    "print(\"NumPy: \",np.__version__)\n",
    "import matplotlib as mplt\n",
    "import matplotlib.pyplot as plt\n",
    "print(\"Matplotlib: \", mplt.__version__)\n",
    "\n",
    "import time"
   ]
  },
  {
   "cell_type": "markdown",
   "metadata": {},
   "source": [
    "https://plot.ly/python/"
   ]
  },
  {
   "cell_type": "code",
   "execution_count": 2,
   "metadata": {
    "scrolled": true
   },
   "outputs": [
    {
     "name": "stdout",
     "output_type": "stream",
     "text": [
      "Plotly:  3.10.0\n",
      "NumPy:  1.16.3\n",
      "Matplotlib:  3.0.3\n"
     ]
    },
    {
     "data": {
      "text/html": [
       "        <script type=\"text/javascript\">\n",
       "        window.PlotlyConfig = {MathJaxConfig: 'local'};\n",
       "        if (window.MathJax) {MathJax.Hub.Config({SVG: {font: \"STIX-Web\"}});}\n",
       "        if (typeof require !== 'undefined') {\n",
       "        require.undef(\"plotly\");\n",
       "        requirejs.config({\n",
       "            paths: {\n",
       "                'plotly': ['https://cdn.plot.ly/plotly-latest.min']\n",
       "            }\n",
       "        });\n",
       "        require(['plotly'], function(Plotly) {\n",
       "            window._Plotly = Plotly;\n",
       "        });\n",
       "        }\n",
       "        </script>\n",
       "        "
      ]
     },
     "metadata": {},
     "output_type": "display_data"
    },
    {
     "data": {
      "text/html": [
       "        <script type=\"text/javascript\">\n",
       "        window.PlotlyConfig = {MathJaxConfig: 'local'};\n",
       "        if (window.MathJax) {MathJax.Hub.Config({SVG: {font: \"STIX-Web\"}});}\n",
       "        if (typeof require !== 'undefined') {\n",
       "        require.undef(\"plotly\");\n",
       "        requirejs.config({\n",
       "            paths: {\n",
       "                'plotly': ['https://cdn.plot.ly/plotly-latest.min']\n",
       "            }\n",
       "        });\n",
       "        require(['plotly'], function(Plotly) {\n",
       "            window._Plotly = Plotly;\n",
       "        });\n",
       "        }\n",
       "        </script>\n",
       "        "
      ]
     },
     "metadata": {},
     "output_type": "display_data"
    },
    {
     "data": {
      "text/html": [
       "        <script type=\"text/javascript\">\n",
       "        window.PlotlyConfig = {MathJaxConfig: 'local'};\n",
       "        if (window.MathJax) {MathJax.Hub.Config({SVG: {font: \"STIX-Web\"}});}\n",
       "        if (typeof require !== 'undefined') {\n",
       "        require.undef(\"plotly\");\n",
       "        requirejs.config({\n",
       "            paths: {\n",
       "                'plotly': ['https://cdn.plot.ly/plotly-latest.min']\n",
       "            }\n",
       "        });\n",
       "        require(['plotly'], function(Plotly) {\n",
       "            window._Plotly = Plotly;\n",
       "        });\n",
       "        }\n",
       "        </script>\n",
       "        "
      ]
     },
     "metadata": {},
     "output_type": "display_data"
    },
    {
     "name": "stdout",
     "output_type": "stream",
     "text": [
      "Done loading Multi_Mesh_Definitions\n"
     ]
    }
   ],
   "source": [
    "%run Multi_Mesh_Definitions.ipynb"
   ]
  },
  {
   "cell_type": "code",
   "execution_count": null,
   "metadata": {
    "scrolled": true
   },
   "outputs": [],
   "source": []
  },
  {
   "cell_type": "markdown",
   "metadata": {},
   "source": [
    "BEGIN  - Main Code"
   ]
  },
  {
   "cell_type": "code",
   "execution_count": null,
   "metadata": {
    "scrolled": true
   },
   "outputs": [],
   "source": []
  },
  {
   "cell_type": "code",
   "execution_count": null,
   "metadata": {
    "scrolled": true
   },
   "outputs": [],
   "source": []
  },
  {
   "cell_type": "code",
   "execution_count": null,
   "metadata": {
    "scrolled": true
   },
   "outputs": [],
   "source": []
  },
  {
   "cell_type": "code",
   "execution_count": null,
   "metadata": {
    "scrolled": false
   },
   "outputs": [
    {
     "data": {
      "text/html": [
       "        <script type=\"text/javascript\">\n",
       "        window.PlotlyConfig = {MathJaxConfig: 'local'};\n",
       "        if (window.MathJax) {MathJax.Hub.Config({SVG: {font: \"STIX-Web\"}});}\n",
       "        if (typeof require !== 'undefined') {\n",
       "        require.undef(\"plotly\");\n",
       "        requirejs.config({\n",
       "            paths: {\n",
       "                'plotly': ['https://cdn.plot.ly/plotly-latest.min']\n",
       "            }\n",
       "        });\n",
       "        require(['plotly'], function(Plotly) {\n",
       "            window._Plotly = Plotly;\n",
       "        });\n",
       "        }\n",
       "        </script>\n",
       "        "
      ]
     },
     "metadata": {},
     "output_type": "display_data"
    }
   ],
   "source": [
    "#Loading example for reference. Disabled.\n",
    "\n",
    "if(True):\n",
    "\n",
    "    #Extract data from 3D mesh vertices\n",
    "\n",
    "    #testExamples\n",
    "    #Load file and check\n",
    "    init_notebook_mode(connected=True)\n",
    "    #objFileName = \"test_robyn_simp.obj\"\n",
    "    objFileName = \"test_simp.obj\"\n",
    "    objFile = open(objFileName,\"rt\")\n",
    "    testmesh = obj_data_to_Mesh(objFile.read())\n",
    "    print(\"Vertices: \",testmesh.vertices.shape)\n",
    "    print(\"Faces: \",testmesh.faces.shape)\n"
   ]
  },
  {
   "cell_type": "code",
   "execution_count": null,
   "metadata": {
    "scrolled": false
   },
   "outputs": [],
   "source": [
    "#Display result examples for reference. Disabled.\n",
    "\n",
    "if(True):\n",
    "\n",
    "    plot_hist(np.log(testmesh.vertexDirectionalCurvatures[:,0])+0.0000000005,\"Log(X-Curvature)\")\n",
    "    plot_hist(np.log(testmesh.vertexDirectionalCurvatures[:,1])+0.0000000005,\"Log(Y-Curvature)\")\n",
    "    plot_hist(np.log(testmesh.vertexDirectionalCurvatures[:,2])+0.0000000005,\"Log(Z-Curvature)\")\n",
    "\n",
    "    #Plot with color based on vertex position\n",
    "    #Prepare color values based on x/y/z coordinate\n",
    "    vertexColors=np.ones_like(testmesh.vertices)\n",
    "    np.copyto(vertexColors,testmesh.vertices)\n",
    "    vertexColors[:,0]-=testmesh.minX\n",
    "    vertexColors[:,0]/=testmesh.rangeX\n",
    "    vertexColors[:,1]-=testmesh.minY\n",
    "    vertexColors[:,1]/=testmesh.rangeY\n",
    "    vertexColors[:,2]-=testmesh.minZ\n",
    "    vertexColors[:,2]/=testmesh.rangeZ\n",
    "\n",
    "    plot_mesh_custom(testmesh,vertexColors,\"Vertex Position\")\n",
    "    #Plot with color based on normal vector direction\n",
    "    #Add one and divide by two to map from [-1,1] to [0,1]\n",
    "    vertexColors=(testmesh.vertexNormals+1.0)/2.0\n",
    "    plot_mesh_custom(testmesh,vertexColors,\"Vertex Normals\")\n",
    "    plot_mesh_colorscale(testmesh,testmesh.vertexElevation,\"Vertex Elevation\",\"Elevation (Degrees)\")\n",
    "    plot_mesh_colorscale(testmesh,testmesh.vertexAzimuth,\"Vertex Azimuth\",\"Azimuth (Degrees)\")\n",
    "    #Plot with color based on curvature magnitude, log scale\n",
    "    plot_mesh_colorscale(testmesh,np.log(testmesh.vertexCurvatures),\"Vertex Curvature (Log)\",\"Log(Curvature)\")\n",
    "\n",
    "    #Plot with color based on each direction curvature magnitude, log scale\n",
    "\n",
    "    plot_mesh_colorscale(testmesh,np.log(testmesh.vertexDirectionalCurvatures[:,0]),\"Vertex X-Curvature (Log)\",\"Log(X-Curvature)\")\n",
    "    plot_mesh_colorscale(testmesh,np.log(testmesh.vertexDirectionalCurvatures[:,1]),\"Vertex Y-Curvature (Log)\",\"Log(Y-Curvature)\")\n",
    "    plot_mesh_colorscale(testmesh,np.log(testmesh.vertexDirectionalCurvatures[:,2]),\"Vertex Z-Curvature (Log)\",\"Log(Z-Curvature)\")"
   ]
  },
  {
   "cell_type": "code",
   "execution_count": null,
   "metadata": {
    "scrolled": true
   },
   "outputs": [],
   "source": []
  },
  {
   "cell_type": "markdown",
   "metadata": {},
   "source": [
    "Last Updated: 9/2/19"
   ]
  }
 ],
 "metadata": {
  "kernelspec": {
   "display_name": "Python 3",
   "language": "python",
   "name": "python3"
  },
  "language_info": {
   "codemirror_mode": {
    "name": "ipython",
    "version": 3
   },
   "file_extension": ".py",
   "mimetype": "text/x-python",
   "name": "python",
   "nbconvert_exporter": "python",
   "pygments_lexer": "ipython3",
   "version": "3.6.8"
  }
 },
 "nbformat": 4,
 "nbformat_minor": 2
}
