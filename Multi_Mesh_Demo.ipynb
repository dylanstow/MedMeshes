{
 "cells": [
  {
   "cell_type": "markdown",
   "metadata": {},
   "source": [
    "# 3D Mesh Analysis\n",
    "This notebook contains methods for 3D mesh analysis and visualization. It is dependent on the __plotly__ package for data and mesh visualization, and on common scipy packages like __numpy__ for data processing. All geometric features are computed natively without other external dependencies to ensure correctness.\n"
   ]
  },
  {
   "cell_type": "code",
   "execution_count": 1,
   "metadata": {
    "scrolled": true
   },
   "outputs": [
    {
     "name": "stdout",
     "output_type": "stream",
     "text": [
      "Plotly:  3.10.0\n",
      "NumPy:  1.16.3\n",
      "Matplotlib:  3.0.3\n"
     ]
    }
   ],
   "source": [
    "#Setup and check required packages\n",
    "import plotly\n",
    "import plotly.graph_objs as go\n",
    "import plotly.tools as tls\n",
    "from plotly.offline import download_plotlyjs, init_notebook_mode, iplot\n",
    "print(\"Plotly: \",plotly.__version__)\n",
    "import numpy as np\n",
    "print(\"NumPy: \",np.__version__)\n",
    "import matplotlib as mplt\n",
    "import matplotlib.pyplot as plt\n",
    "print(\"Matplotlib: \", mplt.__version__)\n",
    "\n",
    "import time"
   ]
  },
  {
   "cell_type": "markdown",
   "metadata": {},
   "source": [
    "https://plot.ly/python/"
   ]
  },
  {
   "cell_type": "markdown",
   "metadata": {},
   "source": [
    "## Action Items:\n",
    "* ~~Mesh extraction~~\n",
    "* ~~Mesh visualization~~\n",
    "* ~~Normal vector calculation, visualization~~\n",
    "* ~~Mean curvature calculation, visualization~~\n",
    "* ~~Corrected curvature calculation, zero handling~~\n",
    "* ~~Directional curvature components~~\n",
    "* ~~Normal vector histogram~~\n",
    "* ~~Directional curvature histograms~~\n",
    "* ~~Ear tip and nose geometric identification~~\n",
    "* ~~Improved geometric identification robustness~~\n",
    "* ~~Region selection based on geometric landmarks~~\n",
    "* ~~Region selection based on normal vector~~\n",
    "* ~~Bulk processing~~\n",
    "* Old metrics versus improved metrics\n",
    "* ~~Metric analysis between groups~~\n",
    "* Improve by preprocessing head alignment and position\n",
    "\n",
    "* ~~Object-oriented~~\n",
    "* ~~Surface area metrics~~\n",
    "* ~~Debug landmark creation~~\n",
    "* ~~Results and group results~~\n",
    "\n",
    "* ~~Split patient load from region/result update~~\n",
    "* ~~Multiple regions - front half vs back half of cranium~~\n",
    "* ~~Result - per-vertex ratio of x to total curvature~~\n",
    "* Debug directional curvature magnitude\n",
    "* T test\n",
    "* Analysis - separation of pre vs post for each metric - T test all\n",
    "* Analysis of best metric between groups\n",
    "* Plot metrics versus post-op month to see age correlation"
   ]
  },
  {
   "cell_type": "markdown",
   "metadata": {},
   "source": [
    "Extracted data features:\n",
    "\n",
    "    vertices\n",
    "    faces\n",
    "    minX/maxX/rangeX\n",
    "    maxrange\n",
    "    vertexNeighbors\n",
    "    faceNeighbors\n",
    "    faceAreas\n",
    "    faceNormals\n",
    "    vertexNormals\n",
    "    vertexElevation\n",
    "    vertexAzimuth\n",
    "    vertexCurvatures\n",
    "    vertexDirectionalCurvatures\n",
    "    leftEarIndex, rightEarIndex, nasionIndex, noseIndex"
   ]
  },
  {
   "cell_type": "code",
   "execution_count": 2,
   "metadata": {
    "scrolled": true
   },
   "outputs": [
    {
     "name": "stdout",
     "output_type": "stream",
     "text": [
      "Plotly:  3.10.0\n",
      "NumPy:  1.16.3\n",
      "Matplotlib:  3.0.3\n"
     ]
    },
    {
     "data": {
      "text/html": [
       "        <script type=\"text/javascript\">\n",
       "        window.PlotlyConfig = {MathJaxConfig: 'local'};\n",
       "        if (window.MathJax) {MathJax.Hub.Config({SVG: {font: \"STIX-Web\"}});}\n",
       "        if (typeof require !== 'undefined') {\n",
       "        require.undef(\"plotly\");\n",
       "        requirejs.config({\n",
       "            paths: {\n",
       "                'plotly': ['https://cdn.plot.ly/plotly-latest.min']\n",
       "            }\n",
       "        });\n",
       "        require(['plotly'], function(Plotly) {\n",
       "            window._Plotly = Plotly;\n",
       "        });\n",
       "        }\n",
       "        </script>\n",
       "        "
      ]
     },
     "metadata": {},
     "output_type": "display_data"
    },
    {
     "data": {
      "text/html": [
       "        <script type=\"text/javascript\">\n",
       "        window.PlotlyConfig = {MathJaxConfig: 'local'};\n",
       "        if (window.MathJax) {MathJax.Hub.Config({SVG: {font: \"STIX-Web\"}});}\n",
       "        if (typeof require !== 'undefined') {\n",
       "        require.undef(\"plotly\");\n",
       "        requirejs.config({\n",
       "            paths: {\n",
       "                'plotly': ['https://cdn.plot.ly/plotly-latest.min']\n",
       "            }\n",
       "        });\n",
       "        require(['plotly'], function(Plotly) {\n",
       "            window._Plotly = Plotly;\n",
       "        });\n",
       "        }\n",
       "        </script>\n",
       "        "
      ]
     },
     "metadata": {},
     "output_type": "display_data"
    },
    {
     "data": {
      "text/html": [
       "        <script type=\"text/javascript\">\n",
       "        window.PlotlyConfig = {MathJaxConfig: 'local'};\n",
       "        if (window.MathJax) {MathJax.Hub.Config({SVG: {font: \"STIX-Web\"}});}\n",
       "        if (typeof require !== 'undefined') {\n",
       "        require.undef(\"plotly\");\n",
       "        requirejs.config({\n",
       "            paths: {\n",
       "                'plotly': ['https://cdn.plot.ly/plotly-latest.min']\n",
       "            }\n",
       "        });\n",
       "        require(['plotly'], function(Plotly) {\n",
       "            window._Plotly = Plotly;\n",
       "        });\n",
       "        }\n",
       "        </script>\n",
       "        "
      ]
     },
     "metadata": {},
     "output_type": "display_data"
    },
    {
     "name": "stdout",
     "output_type": "stream",
     "text": [
      "Done loading Multi_Mesh_Definitions\n"
     ]
    }
   ],
   "source": [
    "%run Multi_Mesh_Definitions.ipynb"
   ]
  },
  {
   "cell_type": "code",
   "execution_count": null,
   "metadata": {
    "scrolled": true
   },
   "outputs": [],
   "source": []
  },
  {
   "cell_type": "markdown",
   "metadata": {},
   "source": [
    "BEGIN  - Main Code"
   ]
  },
  {
   "cell_type": "code",
   "execution_count": 3,
   "metadata": {
    "scrolled": true
   },
   "outputs": [
    {
     "name": "stdout",
     "output_type": "stream",
     "text": [
      "Creating meshes for patient file /home/dstow/research/med/scans/SickKids/DrakeKulkarni/Ps2000_Endoscopic\n",
      "Creating meshes for patient file /home/dstow/research/med/scans/SickKids/DrakeKulkarni/Ps1737_Endoscopic\n",
      "Creating meshes for patient file /home/dstow/research/med/scans/SickKids/DrakeKulkarni/Ps1849_Endoscopic\n",
      "Creating meshes for patient file /home/dstow/research/med/scans/SickKids/DrakeKulkarni/Ps1813_Endoscopic\n",
      "Creating meshes for patient file /home/dstow/research/med/scans/SickKids/DrakeKulkarni/Ps1831_Endoscopic\n",
      "Creating meshes for patient file /home/dstow/research/med/scans/SickKids/DrakeKulkarni/Ps1804_Endoscopic\n",
      "Creating meshes for patient file /home/dstow/research/med/scans/SickKids/DrakeKulkarni/Ps1766_Endoscopic\n",
      "Creating meshes for patient file /home/dstow/research/med/scans/SickKids/Phillips/Ps1760_TCVR\n",
      "Creating meshes for patient file /home/dstow/research/med/scans/SickKids/Phillips/Ps1388_ESC\n",
      "Creating meshes for patient file /home/dstow/research/med/scans/SickKids/Phillips/Ps1357_ESC\n",
      "Creating meshes for patient file /home/dstow/research/med/scans/SickKids/Phillips/Ps0525_TCVR\n",
      "Creating meshes for patient file /home/dstow/research/med/scans/SickKids/Phillips/Ps1493_ESC\n",
      "Creating meshes for patient file /home/dstow/research/med/scans/SickKids/Phillips/Ps1257_ESC\n",
      "Creating meshes for patient file /home/dstow/research/med/scans/SickKids/Phillips/Ps1076_ESC\n",
      "Creating meshes for patient file /home/dstow/research/med/scans/SickKids/Phillips/Ps1036_ESC\n",
      "Creating meshes for patient file /home/dstow/research/med/scans/SickKids/Phillips/Ps1075_TCVR\n",
      "Creating meshes for patient file /home/dstow/research/med/scans/SickKids/Phillips/Ps1451_ESC\n",
      "Creating meshes for patient file /home/dstow/research/med/scans/SickKids/Phillips/Ps1305_TCVR\n",
      "Creating meshes for patient file /home/dstow/research/med/scans/SickKids/Phillips/Ps0724_ESC\n",
      "Creating meshes for patient file /home/dstow/research/med/scans/SickKids/Phillips/Ps0117_ESC\n",
      "Creating meshes for patient file /home/dstow/research/med/scans/SickKids/Phillips/Ps0959_TCVR\n",
      "Creating meshes for patient file /home/dstow/research/med/scans/SickKids/Phillips/Ps0399_ESC\n",
      "Creating meshes for patient file /home/dstow/research/med/scans/SickKids/Forrest/Ps0183_TCVR\n",
      "Creating meshes for patient file /home/dstow/research/med/scans/SickKids/Forrest/Ps1131_TCVR\n",
      "Creating meshes for patient file /home/dstow/research/med/scans/SickKids/Forrest/Ps1286_ESC\n",
      "Creating meshes for patient file /home/dstow/research/med/scans/SickKids/Forrest/Ps1354_ESC\n",
      "Creating meshes for patient file /home/dstow/research/med/scans/SickKids/Forrest/Ps1246_ESC\n",
      "Creating meshes for patient file /home/dstow/research/med/scans/SickKids/Forrest/Ps1566_TCVR\n",
      "Creating meshes for patient file /home/dstow/research/med/scans/SickKids/Forrest/Ps1225_TCVR\n",
      "Creating meshes for patient file /home/dstow/research/med/scans/SickKids/Forrest/Ps0439_ESC\n",
      "Creating meshes for patient file /home/dstow/research/med/scans/SickKids/Forrest/Ps1492_ESC\n",
      "Creating meshes for patient file /home/dstow/research/med/scans/SickKids/Forrest/Ps1105_ESC\n",
      "Creating meshes for patient file /home/dstow/research/med/scans/SickKids/Forrest/Ps1761_TCVR\n",
      "Creating meshes for patient file /home/dstow/research/med/scans/SickKids/Forrest/Ps1688_ESC\n",
      "Creating meshes for patient file /home/dstow/research/med/scans/SickKids/Forrest/Ps1397_ESC\n",
      "Creating meshes for patient file /home/dstow/research/med/scans/SickKids/Forrest/Ps1362_TCVR\n",
      "Creating meshes for patient file /home/dstow/research/med/scans/SickKids/Forrest/Ps0593_ESC\n",
      "Creating meshes for patient file /home/dstow/research/med/scans/SickKids/Forrest/Ps1865_TCVR\n",
      "Creating meshes for patient file /home/dstow/research/med/scans/SickKids/Forrest/Ps0637_ESC\n",
      "Creating meshes for patient file /home/dstow/research/med/scans/SickKids/Forrest/Ps1160_TCVR\n",
      "Creating meshes for patient file /home/dstow/research/med/scans/SickKids/Forrest/Ps0617_ESC\n",
      "Creating meshes for patient file /home/dstow/research/med/scans/SickKids/Forrest/Ps0142_ESC\n",
      "Creating meshes for patient file /home/dstow/research/med/scans/SickKids/Forrest/Ps0559_ESC\n",
      "Creating meshes for patient file /home/dstow/research/med/scans/SickKids/Forrest/Ps1679_ESC\n",
      "Calculating geometric results for 44 patients.\n",
      "Done! patientList count: 44  time: 81.33111262321472\n"
     ]
    }
   ],
   "source": [
    "#Add patients to list - multithreaded version\n",
    "\n",
    "import os\n",
    "import re\n",
    "import multiprocessing\n",
    "from multiprocessing import Pool\n",
    "\n",
    "class PatientData ():\n",
    "    def __init__(self, patientIndex,preOpFile,postOpFile,group,patientNumber,operationType,postOpYears):\n",
    "        self.patientIndex = patientIndex\n",
    "        self.preOpFile = preOpFile\n",
    "        self.postOpFile = postOpFile\n",
    "        self.group = group\n",
    "        self.patientNumber = patientNumber\n",
    "        self.operationType = operationType\n",
    "        self.postOpYears = postOpYears\n",
    "        \n",
    "def createPatientParallel(patientData):\n",
    "    #print(\"Starting proc \" + str(patientData.patientIndex))\n",
    "    preOpObjFile = open(patientData.preOpFile,\"rt\")\n",
    "    postOpObjFile = open(patientData.postOpFile,\"rt\")\n",
    "    preOpMesh = obj_data_to_Mesh(preOpObjFile.read())\n",
    "    postOpMesh = obj_data_to_Mesh(postOpObjFile.read())\n",
    "    preOpObjFile.close()\n",
    "    postOpObjFile.close()\n",
    "    currPatient=Patient(preOpMesh,postOpMesh,patientData.group,patientData.patientNumber,patientData.operationType,patientData.postOpYears)\n",
    "    #print(\"Completing proc \" + str(patientData.patientIndex))\n",
    "    return currPatient\n",
    "\n",
    "    \n",
    "startingDir = '/home/dstow/research/med/scans/SickKids'\n",
    "dirlist = os.listdir(startingDir)\n",
    "patientList = list()\n",
    "patientIndex=0\n",
    "patientDataList = list()\n",
    "\n",
    "for group in dirlist:\n",
    "    groupDir = startingDir+'/'+group\n",
    "    patientDirList = os.listdir(groupDir)\n",
    "    for patient in patientDirList:\n",
    "        patientDir = groupDir+'/'+patient\n",
    "        preOpObjFile=\"\"\n",
    "        postOpObjFile=\"\"\n",
    "        patientNumber=\"\"\n",
    "        operationType=\"\"\n",
    "        postOpYears=999\n",
    "        match=re.search(\"(\\d+)_(\\D+)$\",patient)\n",
    "        if(match):\n",
    "            patientNumber=match.group(1)\n",
    "            operationType=match.group(2)            \n",
    "        else:\n",
    "            print(\"Error: patient number or operation type not found for \"+patient)\n",
    "            break\n",
    "        opDirList = os.listdir(patientDir)\n",
    "        for op in opDirList:\n",
    "            opDir = patientDir+'/'+op\n",
    "            if(re.search(\"^Pre\",op)):\n",
    "                fileDirList = os.listdir(opDir)\n",
    "                simpFound=False\n",
    "                for file in fileDirList:\n",
    "                    if(re.search(\"simp.obj\",file)):\n",
    "                        simpFound=True\n",
    "                        preOpFile = opDir+'/'+file\n",
    "                if(not simpFound):\n",
    "                    print(\"Error: *simp.obj file not found for directory \"+opDir)\n",
    "            match=re.search(\"^Post.*(\\d+\\.\\d+)\",op)\n",
    "            if(match):\n",
    "                postOpYears=match.group(1)\n",
    "                fileDirList = os.listdir(opDir)\n",
    "                simpFound=False\n",
    "                for file in fileDirList:\n",
    "                    if(re.search(\"simp.obj\",file)):\n",
    "                        simpFound=True\n",
    "                        postOpFile = opDir+'/'+file\n",
    "                if(not simpFound):\n",
    "                    print(\"Error: *simp.obj file not found for directory \"+opDir)\n",
    "        print(\"Creating meshes for patient file \"+patientDir)\n",
    "        patientDataList.append(PatientData(patientIndex,preOpFile,postOpFile,group,patientNumber,operationType,postOpYears))\n",
    "        patientIndex=patientIndex+1\n",
    "        \n",
    "        \n",
    "#print( \"Calculating geometric results for \" + str(patientIndex) + \" patients.\" )\n",
    "print( \"Calculating geometric results for \" + str(len(patientDataList)) + \" patients.\" )\n",
    "    \n",
    "\n",
    "#Launch procs\n",
    "start_time = time.time()\n",
    "pool = multiprocessing.Pool(processes=64)\n",
    "patientList = pool.map(createPatientParallel, patientDataList)\n",
    "\n",
    "    \n",
    "end_time = time.time()\n",
    "total_time = end_time - start_time\n",
    "print(\"Done! patientList count:\",len(patientList),\" time:\",str(total_time))"
   ]
  },
  {
   "cell_type": "code",
   "execution_count": 4,
   "metadata": {
    "scrolled": true
   },
   "outputs": [
    {
     "name": "stdout",
     "output_type": "stream",
     "text": [
      "resultListPre count:  44\n",
      "resultListPost count:  44\n"
     ]
    }
   ],
   "source": [
    "# Build resultListPre and resultListPost - ordered lists with pre and post op meshes\n",
    "# These lists are used for later analysis\n",
    "\n",
    "resultListPre = list()\n",
    "resultListPost = list()\n",
    "for currPatient in patientList:\n",
    "    currResultPre = Results(currPatient,isPre=True)\n",
    "    currResultPost = Results(currPatient,isPre=False)\n",
    "    resultListPre.append(currResultPre)\n",
    "    resultListPost.append(currResultPost)\n",
    "    \n",
    "print(\"resultListPre count: \",len(resultListPre))\n",
    "print(\"resultListPost count: \",len(resultListPost))"
   ]
  },
  {
   "cell_type": "code",
   "execution_count": 13,
   "metadata": {
    "scrolled": false
   },
   "outputs": [],
   "source": [
    "#for currPatient in patientList:\n",
    "#    plot_mesh_landmarks(currPatient.preOpMesh)"
   ]
  },
  {
   "cell_type": "code",
   "execution_count": 6,
   "metadata": {
    "scrolled": false
   },
   "outputs": [
    {
     "name": "stdout",
     "output_type": "stream",
     "text": [
      "Endo-ESC\n",
      "Pre Metric: curvXPercentFront  p: 0.006353999948763822  change: -0.02338673159524679\n",
      "Pre Metric: curvYPercentFront  p: 0.0052657254779778  change: 0.030025946489332045\n",
      "Pre Metric: curvYPercentBack  p: 0.002315902949840066  change: -0.022152142308770495\n",
      "Pre Metric: curvZPercentBack  p: 0.004577833469558159  change: 0.01959870347911913\n",
      "Endo-TCVR\n",
      "Pre Metric: curvXPercentFront  p: 0.006286623036868507  change: -0.02565252851957267\n",
      "Pre Metric: curvYPercentBack  p: 0.0011016101385847164  change: -0.027283480879126965\n",
      "Pre Metric: curvZPercentBack  p: 0.0006438986628037467  change: 0.02646378153786566\n",
      "ESC-TCVR\n",
      "Pre Metric: curvZPercentFront  p: 0.00028787314174848455  change: 0.01975110023174853\n"
     ]
    },
    {
     "data": {
      "application/vnd.plotly.v1+json": {
       "config": {
        "plotlyServerURL": "https://plot.ly"
       },
       "data": [
        {
         "mode": "markers",
         "name": "Endo",
         "type": "scatter",
         "uid": "0ae5ea49-4a10-4d0c-99d8-3b5f6a0b4046",
         "x": [
          0.4236265604574607,
          0.4285698166675406,
          0.43181018308076113,
          0.43095188882253044,
          0.4346460956195938,
          0.39745531428632386,
          0.39854984066498783
         ],
         "y": [
          0.4290171973374256,
          0.4177080431352223,
          0.4036869600692595,
          0.41849864508670287,
          0.41080605530088754,
          0.4440150051468601,
          0.427622810408809
         ]
        },
        {
         "mode": "markers",
         "name": "ESC",
         "type": "scatter",
         "uid": "73fb1c45-0aab-4117-89e8-d421ded7d7e5",
         "x": [
          0.40358733764399524,
          0.39944309499171415,
          0.4229802800959506,
          0.4056427879863977,
          0.4026077731499484,
          0.4037330736309398,
          0.4019421947767535,
          0.4202875934510894,
          0.4185664988249412,
          0.42720644306085004,
          0.43538553228378296,
          0.40852487100007173,
          0.42915107207196573,
          0.3990026361093078,
          0.4086693450019118,
          0.41887153515167064,
          0.4326555939078408,
          0.4020486431836678,
          0.42248252597967034,
          0.3872183712517788,
          0.4124087352387421,
          0.4151007288875573,
          0.4064662198556309,
          0.40269913760563925
         ],
         "y": [
          0.4423962053850014,
          0.43344782344939575,
          0.4317853694432987,
          0.43143212004222636,
          0.4432739979800588,
          0.43317326074815454,
          0.43930047366112657,
          0.44106907567676423,
          0.42492127375141153,
          0.43059862708007623,
          0.41387968471965786,
          0.44025453303394063,
          0.43292424552058983,
          0.4571131426351728,
          0.4381753250353516,
          0.45551801990725405,
          0.408080771772308,
          0.4426558894595343,
          0.456135321385204,
          0.44607745161988427,
          0.4527826465316046,
          0.4264547520248246,
          0.4652670976913977,
          0.4521308755586118
         ]
        },
        {
         "mode": "markers",
         "name": "TCVR",
         "type": "scatter",
         "uid": "c1d0dbe4-6039-47fd-8562-5ca420ae4998",
         "x": [
          0.399680982926754,
          0.40112007570708885,
          0.38986173779191957,
          0.41260456906330417,
          0.4128457757680871,
          0.4228418548686782,
          0.4041420667929515,
          0.42220691097873614,
          0.4230115983372724,
          0.3615011152177381,
          0.40852487100007173,
          0.4131696973763071,
          0.41496967528538165
         ],
         "y": [
          0.42841955509311475,
          0.43970355723608845,
          0.43866631172784515,
          0.436386914278602,
          0.44026014327440466,
          0.4520904710597463,
          0.4483282889049366,
          0.4331010585045593,
          0.43530253345523584,
          0.44580567184961517,
          0.44025453303394063,
          0.43098624544823105,
          0.4350342821858376
         ]
        }
       ],
       "layout": {}
      },
      "text/html": [
       "<div>\n",
       "        \n",
       "        \n",
       "            <div id=\"1aedc9c0-ac2b-463d-85d8-c019eeadf8cc\" class=\"plotly-graph-div\" style=\"height:525px; width:100%;\"></div>\n",
       "            <script type=\"text/javascript\">\n",
       "                require([\"plotly\"], function(Plotly) {\n",
       "                    window.PLOTLYENV=window.PLOTLYENV || {};\n",
       "                    window.PLOTLYENV.BASE_URL='https://plot.ly';\n",
       "                    \n",
       "                if (document.getElementById(\"1aedc9c0-ac2b-463d-85d8-c019eeadf8cc\")) {\n",
       "                    Plotly.newPlot(\n",
       "                        '1aedc9c0-ac2b-463d-85d8-c019eeadf8cc',\n",
       "                        [{\"mode\": \"markers\", \"name\": \"Endo\", \"type\": \"scatter\", \"uid\": \"0ae5ea49-4a10-4d0c-99d8-3b5f6a0b4046\", \"x\": [0.4236265604574607, 0.4285698166675406, 0.43181018308076113, 0.43095188882253044, 0.4346460956195938, 0.39745531428632386, 0.39854984066498783], \"y\": [0.4290171973374256, 0.4177080431352223, 0.4036869600692595, 0.41849864508670287, 0.41080605530088754, 0.4440150051468601, 0.427622810408809]}, {\"mode\": \"markers\", \"name\": \"ESC\", \"type\": \"scatter\", \"uid\": \"73fb1c45-0aab-4117-89e8-d421ded7d7e5\", \"x\": [0.40358733764399524, 0.39944309499171415, 0.4229802800959506, 0.4056427879863977, 0.4026077731499484, 0.4037330736309398, 0.4019421947767535, 0.4202875934510894, 0.4185664988249412, 0.42720644306085004, 0.43538553228378296, 0.40852487100007173, 0.42915107207196573, 0.3990026361093078, 0.4086693450019118, 0.41887153515167064, 0.4326555939078408, 0.4020486431836678, 0.42248252597967034, 0.3872183712517788, 0.4124087352387421, 0.4151007288875573, 0.4064662198556309, 0.40269913760563925], \"y\": [0.4423962053850014, 0.43344782344939575, 0.4317853694432987, 0.43143212004222636, 0.4432739979800588, 0.43317326074815454, 0.43930047366112657, 0.44106907567676423, 0.42492127375141153, 0.43059862708007623, 0.41387968471965786, 0.44025453303394063, 0.43292424552058983, 0.4571131426351728, 0.4381753250353516, 0.45551801990725405, 0.408080771772308, 0.4426558894595343, 0.456135321385204, 0.44607745161988427, 0.4527826465316046, 0.4264547520248246, 0.4652670976913977, 0.4521308755586118]}, {\"mode\": \"markers\", \"name\": \"TCVR\", \"type\": \"scatter\", \"uid\": \"c1d0dbe4-6039-47fd-8562-5ca420ae4998\", \"x\": [0.399680982926754, 0.40112007570708885, 0.38986173779191957, 0.41260456906330417, 0.4128457757680871, 0.4228418548686782, 0.4041420667929515, 0.42220691097873614, 0.4230115983372724, 0.3615011152177381, 0.40852487100007173, 0.4131696973763071, 0.41496967528538165], \"y\": [0.42841955509311475, 0.43970355723608845, 0.43866631172784515, 0.436386914278602, 0.44026014327440466, 0.4520904710597463, 0.4483282889049366, 0.4331010585045593, 0.43530253345523584, 0.44580567184961517, 0.44025453303394063, 0.43098624544823105, 0.4350342821858376]}],\n",
       "                        {},\n",
       "                        {\"plotlyServerURL\": \"https://plot.ly\", \"responsive\": true}\n",
       "                    ).then(function(){\n",
       "                            \n",
       "var gd = document.getElementById('1aedc9c0-ac2b-463d-85d8-c019eeadf8cc');\n",
       "var x = new MutationObserver(function (mutations, observer) {{\n",
       "        var display = window.getComputedStyle(gd).display;\n",
       "        if (!display || display === 'none') {{\n",
       "            console.log([gd, 'removed!']);\n",
       "            Plotly.purge(gd);\n",
       "            observer.disconnect();\n",
       "        }}\n",
       "}});\n",
       "\n",
       "// Listen for the removal of the full notebook cells\n",
       "var notebookContainer = gd.closest('#notebook-container');\n",
       "if (notebookContainer) {{\n",
       "    x.observe(notebookContainer, {childList: true});\n",
       "}}\n",
       "\n",
       "// Listen for the clearing of the current output cell\n",
       "var outputEl = gd.closest('.output');\n",
       "if (outputEl) {{\n",
       "    x.observe(outputEl, {childList: true});\n",
       "}}\n",
       "\n",
       "                        })\n",
       "                };\n",
       "                });\n",
       "            </script>\n",
       "        </div>"
      ]
     },
     "metadata": {},
     "output_type": "display_data"
    },
    {
     "name": "stdout",
     "output_type": "stream",
     "text": [
      "Endo Delta curvYPercentBack: -0.029000966596150275\n",
      "ESC Delta curvYPercentBack: -0.015705125563499085\n",
      "TCVR Delta curvYPercentBack: -0.015866492057567724\n"
     ]
    }
   ],
   "source": [
    "#First, sort pre and post lists into lists for each operation type\n",
    "#Next, build GroupResults and DeltaResults to extract group trends\n",
    "#Finally, perform statistical testing with GroupCompare for each metric\n",
    "# Only display the significant metrics\n",
    "\n",
    "\n",
    "endoResultsPre=list()\n",
    "escResultsPre=list()\n",
    "tcvrResultsPre=list()\n",
    "endoResultsPost=list()\n",
    "escResultsPost=list()\n",
    "tcvrResultsPost=list()\n",
    "\n",
    "#print(len(resultListPre))\n",
    "\n",
    "significance = 0.01\n",
    "\n",
    "\n",
    "for currResultPre in resultListPre:\n",
    "    if(currResultPre.operationType==\"Endoscopic\"):\n",
    "        endoResultsPre.append(currResultPre)\n",
    "    elif(currResultPre.operationType==\"ESC\"):\n",
    "        escResultsPre.append(currResultPre)\n",
    "    elif(currResultPre.operationType==\"TCVR\"):\n",
    "        tcvrResultsPre.append(currResultPre)\n",
    "    else:\n",
    "        print(\"ERROR: no valid operation type for patient \")\n",
    "\n",
    "endoGroupResultsPre=GroupResults(endoResultsPre)\n",
    "escGroupResultsPre=GroupResults(escResultsPre)\n",
    "tcvrGroupResultsPre=GroupResults(tcvrResultsPre)\n",
    "\n",
    "#print(\"ESCPre: \",escGroupResultPre.resultCount)\n",
    "#print(\"TCVRPre: \",tcvrGroupResultPre.resultCount)\n",
    "\n",
    "#print(len(resultListPost))\n",
    "\n",
    "for currResultPost in resultListPost:\n",
    "    if(currResultPost.operationType==\"Endoscopic\"):\n",
    "        endoResultsPost.append(currResultPost)\n",
    "    elif(currResultPost.operationType==\"ESC\"):\n",
    "        escResultsPost.append(currResultPost)\n",
    "    elif(currResultPost.operationType==\"TCVR\"):\n",
    "        tcvrResultsPost.append(currResultPost)\n",
    "    else:\n",
    "        print(\"ERROR: no valid operation type for patient \")\n",
    "\n",
    "endoGroupResultsPost=GroupResults(endoResultsPost)\n",
    "escGroupResultsPost=GroupResults(escResultsPost)\n",
    "tcvrGroupResultsPost=GroupResults(tcvrResultsPost)\n",
    "\n",
    "endoDeltaResults = DeltaResults(endoResultsPre,endoResultsPost)\n",
    "escDeltaResults = DeltaResults(escResultsPre,escResultsPost)\n",
    "tcvrDeltaResults = DeltaResults(tcvrResultsPre,tcvrResultsPost)\n",
    "\n",
    "print(\"Endo-ESC\")\n",
    "for currMetric in endoGroupResultsPost.metrics:\n",
    "    gc=GroupCompare(endoGroupResultsPost,escGroupResultsPost,currMetric)\n",
    "    gcDelta=GroupCompare(endoDeltaResults,escDeltaResults,currMetric)\n",
    "    gcPre=GroupCompare(endoGroupResultsPre,escGroupResultsPre,currMetric)\n",
    "    #if(gc.p<significance):\n",
    "    #    print(\"Post Metric:\",gc.metric,\" p:\",gc.p, \" change:\",gc.x2-gc.x1)\n",
    "    #if(gcDelta.p<significance):\n",
    "    #    print(\"Delta Metric:\",gc.metric,\" p:\",gc.p)\n",
    "    #print(gcDelta.metric,\",\",gcDelta.p)\n",
    "    if(gcPre.p<significance):\n",
    "        print(\"Pre Metric:\",gcPre.metric,\" p:\",gcPre.p, \" change:\",gcPre.x2-gcPre.x1)\n",
    "    \n",
    "print(\"Endo-TCVR\")\n",
    "for currMetric in endoGroupResultsPost.metrics:\n",
    "    gc=GroupCompare(endoGroupResultsPost,tcvrGroupResultsPost,currMetric)\n",
    "    gcDelta=GroupCompare(endoDeltaResults,tcvrDeltaResults,currMetric)\n",
    "    gcPre=GroupCompare(endoGroupResultsPre,tcvrGroupResultsPre,currMetric)\n",
    "    #if(gc.p<significance):\n",
    "    #    print(\"Post Metric:\",gc.metric,\" p:\",gc.p, \" change:\",gc.x2-gc.x1)\n",
    "    #if(gcDelta.p<significance):\n",
    "    #    print(\"Delta Metric:\",gc.metric,\" p:\",gc.p)\n",
    "    #print(gcDelta.metric,\",\",gcDelta.p)\n",
    "    if(gcPre.p<significance):\n",
    "        print(\"Pre Metric:\",gcPre.metric,\" p:\",gcPre.p, \" change:\",gcPre.x2-gcPre.x1)\n",
    "   \n",
    "    \n",
    "print(\"ESC-TCVR\")\n",
    "for currMetric in endoGroupResultsPost.metrics:\n",
    "    gc=GroupCompare(escGroupResultsPost,tcvrGroupResultsPost,currMetric)\n",
    "    gcDelta=GroupCompare(escDeltaResults,tcvrDeltaResults,currMetric)\n",
    "    gcPre=GroupCompare(escGroupResultsPre,tcvrGroupResultsPre,currMetric)\n",
    "    #if(gc.p<significance):\n",
    "    #    print(\"Post Metric:\",gc.metric,\" p:\",gc.p, \" change:\",gc.x2-gc.x1)\n",
    "    #if(gcDelta.p<significance):\n",
    "    #    print(\"Delta Metric:\",gc.metric,\" p:\",gc.p)\n",
    "    #print(gcDelta.metric,\",\",gcDelta.p)\n",
    "    if(gcPre.p<significance):\n",
    "        print(\"Pre Metric:\",gcPre.metric,\" p:\",gcPre.p, \" change:\",gcPre.x2-gcPre.x1)\n",
    "    \n",
    "\n",
    "        \n",
    "fig=go.Figure()\n",
    "fig.add_trace(go.Scatter(x=endoGroupResultsPost.results[\"curvYPercentBack\"],y=endoGroupResultsPost.results[\"curvZPercentBack\"],mode='markers',name='Endo'))\n",
    "fig.add_trace(go.Scatter(x=escGroupResultsPost.results[\"curvYPercentBack\"],y=escGroupResultsPost.results[\"curvZPercentBack\"],mode='markers',name='ESC'))\n",
    "fig.add_trace(go.Scatter(x=tcvrGroupResultsPost.results[\"curvYPercentBack\"],y=tcvrGroupResultsPost.results[\"curvZPercentBack\"],mode='markers',name='TCVR'))\n",
    "fig.show()\n",
    "\n",
    "\n",
    "\n",
    "\n",
    "print(\"Endo Delta curvYPercentBack:\",endoDeltaResults.means[\"curvYPercentBack\"])\n",
    "print(\"ESC Delta curvYPercentBack:\",escDeltaResults.means[\"curvYPercentBack\"])\n",
    "print(\"TCVR Delta curvYPercentBack:\",tcvrDeltaResults.means[\"curvYPercentBack\"])"
   ]
  },
  {
   "cell_type": "code",
   "execution_count": 7,
   "metadata": {
    "scrolled": true
   },
   "outputs": [
    {
     "name": "stdout",
     "output_type": "stream",
     "text": [
      "44\n",
      "44\n",
      "curvFront , 0.1312407268106105\n",
      "curvXFront , 0.3912365835486379\n",
      "curvYFront , 0.009853168161566044\n",
      "curvZFront , 0.44572930296031466\n",
      "curvXPercentFront , 0.4143703696221708\n",
      "curvYPercentFront , 0.06552886415362262\n",
      "curvZPercentFront , 0.0006448756896514284\n",
      "curvBack , 9.951597663353359e-05\n",
      "curvXBack , 0.000594080993213901\n",
      "curvYBack , 1.0471673026620615e-05\n",
      "curvZBack , 0.00011056940225362593\n",
      "curvXPercentBack , 0.04047092816041541\n",
      "curvYPercentBack , 3.0232294964463774e-06\n",
      "curvZPercentBack , 0.15533205446804865\n"
     ]
    },
    {
     "data": {
      "application/vnd.plotly.v1+json": {
       "config": {
        "plotlyServerURL": "https://plot.ly"
       },
       "data": [
        {
         "mode": "markers",
         "name": "Pre",
         "type": "scatter",
         "uid": "ee99e209-acf2-4c79-adaf-01e185a53ff0",
         "x": [
          0.4578873793593032,
          0.4616814162358974,
          0.43656610206046376,
          0.4699092738015752,
          0.4459778225690305,
          0.43334858629208683,
          0.4432458854538934,
          0.445261986706683,
          0.43204094051303416,
          0.4210773518722269,
          0.40974671709565014,
          0.45084991151598136,
          0.4175835026801124,
          0.4463480722552107,
          0.40829156626827473,
          0.37779209252049006,
          0.4686040116436088,
          0.43110532292788006,
          0.43314032954709936,
          0.4327450976558373,
          0.43902575549313055,
          0.40428661152732376,
          0.40645346891485623,
          0.44068557906304656,
          0.4193113463197699,
          0.40912619289022584,
          0.4226357801400167,
          0.43941282617003885,
          0.4290897104296099,
          0.45305588206431363,
          0.44096955757823814,
          0.4344424440712289,
          0.42978477663642384,
          0.43252285933224943,
          0.43231054168495564,
          0.40912619289022584,
          0.41872978399476224,
          0.41428039605538464,
          0.39793836144001987,
          0.4209805029592513,
          0.42595459945691255,
          0.42997537780973005,
          0.41918216512847895,
          0.4124827512761847
         ],
         "y": [
          0.4578873793593032,
          0.4616814162358974,
          0.43656610206046376,
          0.4699092738015752,
          0.4459778225690305,
          0.43334858629208683,
          0.4432458854538934,
          0.445261986706683,
          0.43204094051303416,
          0.4210773518722269,
          0.40974671709565014,
          0.45084991151598136,
          0.4175835026801124,
          0.4463480722552107,
          0.40829156626827473,
          0.37779209252049006,
          0.4686040116436088,
          0.43110532292788006,
          0.43314032954709936,
          0.4327450976558373,
          0.43902575549313055,
          0.40428661152732376,
          0.40645346891485623,
          0.44068557906304656,
          0.4193113463197699,
          0.40912619289022584,
          0.4226357801400167,
          0.43941282617003885,
          0.4290897104296099,
          0.45305588206431363,
          0.44096955757823814,
          0.4344424440712289,
          0.42978477663642384,
          0.43252285933224943,
          0.43231054168495564,
          0.40912619289022584,
          0.41872978399476224,
          0.41428039605538464,
          0.39793836144001987,
          0.4209805029592513,
          0.42595459945691255,
          0.42997537780973005,
          0.41918216512847895,
          0.4124827512761847
         ]
        },
        {
         "mode": "markers",
         "name": "Post",
         "type": "scatter",
         "uid": "301a82cb-bb87-4474-beb6-ee1427068065",
         "x": [
          0.4236265604574607,
          0.4285698166675406,
          0.43181018308076113,
          0.43095188882253044,
          0.4346460956195938,
          0.39745531428632386,
          0.39854984066498783,
          0.399680982926754,
          0.40358733764399524,
          0.39944309499171415,
          0.40112007570708885,
          0.4229802800959506,
          0.4056427879863977,
          0.4026077731499484,
          0.4037330736309398,
          0.38986173779191957,
          0.4019421947767535,
          0.41260456906330417,
          0.4202875934510894,
          0.4185664988249412,
          0.4128457757680871,
          0.42720644306085004,
          0.4228418548686782,
          0.4041420667929515,
          0.43538553228378296,
          0.40852487100007173,
          0.42915107207196573,
          0.42220691097873614,
          0.4230115983372724,
          0.3990026361093078,
          0.4086693450019118,
          0.41887153515167064,
          0.3615011152177381,
          0.4326555939078408,
          0.4020486431836678,
          0.40852487100007173,
          0.42248252597967034,
          0.4131696973763071,
          0.3872183712517788,
          0.41496967528538165,
          0.4124087352387421,
          0.4151007288875573,
          0.4064662198556309,
          0.40269913760563925
         ],
         "y": [
          0.4236265604574607,
          0.4285698166675406,
          0.43181018308076113,
          0.43095188882253044,
          0.4346460956195938,
          0.39745531428632386,
          0.39854984066498783,
          0.399680982926754,
          0.40358733764399524,
          0.39944309499171415,
          0.40112007570708885,
          0.4229802800959506,
          0.4056427879863977,
          0.4026077731499484,
          0.4037330736309398,
          0.38986173779191957,
          0.4019421947767535,
          0.41260456906330417,
          0.4202875934510894,
          0.4185664988249412,
          0.4128457757680871,
          0.42720644306085004,
          0.4228418548686782,
          0.4041420667929515,
          0.43538553228378296,
          0.40852487100007173,
          0.42915107207196573,
          0.42220691097873614,
          0.4230115983372724,
          0.3990026361093078,
          0.4086693450019118,
          0.41887153515167064,
          0.3615011152177381,
          0.4326555939078408,
          0.4020486431836678,
          0.40852487100007173,
          0.42248252597967034,
          0.4131696973763071,
          0.3872183712517788,
          0.41496967528538165,
          0.4124087352387421,
          0.4151007288875573,
          0.4064662198556309,
          0.40269913760563925
         ]
        }
       ],
       "layout": {}
      },
      "text/html": [
       "<div>\n",
       "        \n",
       "        \n",
       "            <div id=\"e64304ae-fa1c-4aff-873c-8b700d38c17a\" class=\"plotly-graph-div\" style=\"height:525px; width:100%;\"></div>\n",
       "            <script type=\"text/javascript\">\n",
       "                require([\"plotly\"], function(Plotly) {\n",
       "                    window.PLOTLYENV=window.PLOTLYENV || {};\n",
       "                    window.PLOTLYENV.BASE_URL='https://plot.ly';\n",
       "                    \n",
       "                if (document.getElementById(\"e64304ae-fa1c-4aff-873c-8b700d38c17a\")) {\n",
       "                    Plotly.newPlot(\n",
       "                        'e64304ae-fa1c-4aff-873c-8b700d38c17a',\n",
       "                        [{\"mode\": \"markers\", \"name\": \"Pre\", \"type\": \"scatter\", \"uid\": \"ee99e209-acf2-4c79-adaf-01e185a53ff0\", \"x\": [0.4578873793593032, 0.4616814162358974, 0.43656610206046376, 0.4699092738015752, 0.4459778225690305, 0.43334858629208683, 0.4432458854538934, 0.445261986706683, 0.43204094051303416, 0.4210773518722269, 0.40974671709565014, 0.45084991151598136, 0.4175835026801124, 0.4463480722552107, 0.40829156626827473, 0.37779209252049006, 0.4686040116436088, 0.43110532292788006, 0.43314032954709936, 0.4327450976558373, 0.43902575549313055, 0.40428661152732376, 0.40645346891485623, 0.44068557906304656, 0.4193113463197699, 0.40912619289022584, 0.4226357801400167, 0.43941282617003885, 0.4290897104296099, 0.45305588206431363, 0.44096955757823814, 0.4344424440712289, 0.42978477663642384, 0.43252285933224943, 0.43231054168495564, 0.40912619289022584, 0.41872978399476224, 0.41428039605538464, 0.39793836144001987, 0.4209805029592513, 0.42595459945691255, 0.42997537780973005, 0.41918216512847895, 0.4124827512761847], \"y\": [0.4578873793593032, 0.4616814162358974, 0.43656610206046376, 0.4699092738015752, 0.4459778225690305, 0.43334858629208683, 0.4432458854538934, 0.445261986706683, 0.43204094051303416, 0.4210773518722269, 0.40974671709565014, 0.45084991151598136, 0.4175835026801124, 0.4463480722552107, 0.40829156626827473, 0.37779209252049006, 0.4686040116436088, 0.43110532292788006, 0.43314032954709936, 0.4327450976558373, 0.43902575549313055, 0.40428661152732376, 0.40645346891485623, 0.44068557906304656, 0.4193113463197699, 0.40912619289022584, 0.4226357801400167, 0.43941282617003885, 0.4290897104296099, 0.45305588206431363, 0.44096955757823814, 0.4344424440712289, 0.42978477663642384, 0.43252285933224943, 0.43231054168495564, 0.40912619289022584, 0.41872978399476224, 0.41428039605538464, 0.39793836144001987, 0.4209805029592513, 0.42595459945691255, 0.42997537780973005, 0.41918216512847895, 0.4124827512761847]}, {\"mode\": \"markers\", \"name\": \"Post\", \"type\": \"scatter\", \"uid\": \"301a82cb-bb87-4474-beb6-ee1427068065\", \"x\": [0.4236265604574607, 0.4285698166675406, 0.43181018308076113, 0.43095188882253044, 0.4346460956195938, 0.39745531428632386, 0.39854984066498783, 0.399680982926754, 0.40358733764399524, 0.39944309499171415, 0.40112007570708885, 0.4229802800959506, 0.4056427879863977, 0.4026077731499484, 0.4037330736309398, 0.38986173779191957, 0.4019421947767535, 0.41260456906330417, 0.4202875934510894, 0.4185664988249412, 0.4128457757680871, 0.42720644306085004, 0.4228418548686782, 0.4041420667929515, 0.43538553228378296, 0.40852487100007173, 0.42915107207196573, 0.42220691097873614, 0.4230115983372724, 0.3990026361093078, 0.4086693450019118, 0.41887153515167064, 0.3615011152177381, 0.4326555939078408, 0.4020486431836678, 0.40852487100007173, 0.42248252597967034, 0.4131696973763071, 0.3872183712517788, 0.41496967528538165, 0.4124087352387421, 0.4151007288875573, 0.4064662198556309, 0.40269913760563925], \"y\": [0.4236265604574607, 0.4285698166675406, 0.43181018308076113, 0.43095188882253044, 0.4346460956195938, 0.39745531428632386, 0.39854984066498783, 0.399680982926754, 0.40358733764399524, 0.39944309499171415, 0.40112007570708885, 0.4229802800959506, 0.4056427879863977, 0.4026077731499484, 0.4037330736309398, 0.38986173779191957, 0.4019421947767535, 0.41260456906330417, 0.4202875934510894, 0.4185664988249412, 0.4128457757680871, 0.42720644306085004, 0.4228418548686782, 0.4041420667929515, 0.43538553228378296, 0.40852487100007173, 0.42915107207196573, 0.42220691097873614, 0.4230115983372724, 0.3990026361093078, 0.4086693450019118, 0.41887153515167064, 0.3615011152177381, 0.4326555939078408, 0.4020486431836678, 0.40852487100007173, 0.42248252597967034, 0.4131696973763071, 0.3872183712517788, 0.41496967528538165, 0.4124087352387421, 0.4151007288875573, 0.4064662198556309, 0.40269913760563925]}],\n",
       "                        {},\n",
       "                        {\"plotlyServerURL\": \"https://plot.ly\", \"responsive\": true}\n",
       "                    ).then(function(){\n",
       "                            \n",
       "var gd = document.getElementById('e64304ae-fa1c-4aff-873c-8b700d38c17a');\n",
       "var x = new MutationObserver(function (mutations, observer) {{\n",
       "        var display = window.getComputedStyle(gd).display;\n",
       "        if (!display || display === 'none') {{\n",
       "            console.log([gd, 'removed!']);\n",
       "            Plotly.purge(gd);\n",
       "            observer.disconnect();\n",
       "        }}\n",
       "}});\n",
       "\n",
       "// Listen for the removal of the full notebook cells\n",
       "var notebookContainer = gd.closest('#notebook-container');\n",
       "if (notebookContainer) {{\n",
       "    x.observe(notebookContainer, {childList: true});\n",
       "}}\n",
       "\n",
       "// Listen for the clearing of the current output cell\n",
       "var outputEl = gd.closest('.output');\n",
       "if (outputEl) {{\n",
       "    x.observe(outputEl, {childList: true});\n",
       "}}\n",
       "\n",
       "                        })\n",
       "                };\n",
       "                });\n",
       "            </script>\n",
       "        </div>"
      ]
     },
     "metadata": {},
     "output_type": "display_data"
    },
    {
     "data": {
      "application/vnd.plotly.v1+json": {
       "config": {
        "linkText": "Export to plot.ly",
        "plotlyServerURL": "https://plot.ly",
        "showLink": false
       },
       "data": [
        {
         "marker": {
          "color": "#1F77B4",
          "line": {
           "width": 1
          }
         },
         "opacity": 1,
         "orientation": "v",
         "type": "bar",
         "uid": "e1a3e160-7101-45bf-91d0-ff1cbabca6d9",
         "x": [
          0.3823979515845443,
          0.3916096697126528,
          0.4008213878407614,
          0.4100331059688699,
          0.4192448240969784,
          0.4284565422250869,
          0.4376682603531954,
          0.4468799784813039,
          0.45609169660941246,
          0.46530341473752096
         ],
         "xaxis": "x",
         "y": [
          1,
          0,
          2,
          7,
          7,
          9,
          8,
          5,
          2,
          3
         ],
         "yaxis": "y"
        }
       ],
       "layout": {
        "autosize": false,
        "bargap": 0,
        "height": 288,
        "hovermode": "closest",
        "margin": {
         "b": 36,
         "l": 54,
         "pad": 0,
         "r": 43,
         "t": 34
        },
        "showlegend": false,
        "title": {
         "font": {
          "color": "#000000",
          "size": 12
         },
         "text": "Pre-curvYPercentBack Histogram"
        },
        "width": 432,
        "xaxis": {
         "anchor": "y",
         "domain": [
          0,
          1
         ],
         "mirror": "ticks",
         "nticks": 7,
         "range": [
          0.3731862334564358,
          0.47451513286562946
         ],
         "showgrid": false,
         "showline": true,
         "side": "bottom",
         "tickfont": {
          "size": 10
         },
         "ticks": "inside",
         "title": {
          "font": {
           "color": "#000000",
           "size": 10
          },
          "text": "Pre-curvYPercentBack"
         },
         "type": "linear",
         "zeroline": false
        },
        "yaxis": {
         "anchor": "x",
         "domain": [
          0,
          1
         ],
         "mirror": "ticks",
         "nticks": 6,
         "range": [
          0,
          9.45
         ],
         "showgrid": false,
         "showline": true,
         "side": "left",
         "tickfont": {
          "size": 10
         },
         "ticks": "inside",
         "title": {
          "font": {
           "color": "#000000",
           "size": 10
          },
          "text": "Frequency"
         },
         "type": "linear",
         "zeroline": false
        }
       }
      },
      "text/html": [
       "<div>\n",
       "        \n",
       "        \n",
       "            <div id=\"af279b00-f953-4848-8049-c3243110781d\" class=\"plotly-graph-div\" style=\"height:288px; width:432px;\"></div>\n",
       "            <script type=\"text/javascript\">\n",
       "                require([\"plotly\"], function(Plotly) {\n",
       "                    window.PLOTLYENV=window.PLOTLYENV || {};\n",
       "                    window.PLOTLYENV.BASE_URL='https://plot.ly';\n",
       "                    \n",
       "                if (document.getElementById(\"af279b00-f953-4848-8049-c3243110781d\")) {\n",
       "                    Plotly.newPlot(\n",
       "                        'af279b00-f953-4848-8049-c3243110781d',\n",
       "                        [{\"marker\": {\"color\": \"#1F77B4\", \"line\": {\"width\": 1.0}}, \"opacity\": 1, \"orientation\": \"v\", \"type\": \"bar\", \"uid\": \"e1a3e160-7101-45bf-91d0-ff1cbabca6d9\", \"x\": [0.3823979515845443, 0.3916096697126528, 0.4008213878407614, 0.4100331059688699, 0.4192448240969784, 0.4284565422250869, 0.4376682603531954, 0.4468799784813039, 0.45609169660941246, 0.46530341473752096], \"xaxis\": \"x\", \"y\": [1.0, 0.0, 2.0, 7.0, 7.0, 9.0, 8.0, 5.0, 2.0, 3.0], \"yaxis\": \"y\"}],\n",
       "                        {\"autosize\": false, \"bargap\": 0.0, \"height\": 288, \"hovermode\": \"closest\", \"margin\": {\"b\": 36, \"l\": 54, \"pad\": 0, \"r\": 43, \"t\": 34}, \"showlegend\": false, \"title\": {\"font\": {\"color\": \"#000000\", \"size\": 12.0}, \"text\": \"Pre-curvYPercentBack Histogram\"}, \"width\": 432, \"xaxis\": {\"anchor\": \"y\", \"domain\": [0.0, 1.0], \"mirror\": \"ticks\", \"nticks\": 7, \"range\": [0.3731862334564358, 0.47451513286562946], \"showgrid\": false, \"showline\": true, \"side\": \"bottom\", \"tickfont\": {\"size\": 10.0}, \"ticks\": \"inside\", \"title\": {\"font\": {\"color\": \"#000000\", \"size\": 10.0}, \"text\": \"Pre-curvYPercentBack\"}, \"type\": \"linear\", \"zeroline\": false}, \"yaxis\": {\"anchor\": \"x\", \"domain\": [0.0, 1.0], \"mirror\": \"ticks\", \"nticks\": 6, \"range\": [0.0, 9.45], \"showgrid\": false, \"showline\": true, \"side\": \"left\", \"tickfont\": {\"size\": 10.0}, \"ticks\": \"inside\", \"title\": {\"font\": {\"color\": \"#000000\", \"size\": 10.0}, \"text\": \"Frequency\"}, \"type\": \"linear\", \"zeroline\": false}},\n",
       "                        {\"showLink\": false, \"linkText\": \"Export to plot.ly\", \"plotlyServerURL\": \"https://plot.ly\", \"responsive\": true}\n",
       "                    ).then(function(){\n",
       "                            \n",
       "var gd = document.getElementById('af279b00-f953-4848-8049-c3243110781d');\n",
       "var x = new MutationObserver(function (mutations, observer) {{\n",
       "        var display = window.getComputedStyle(gd).display;\n",
       "        if (!display || display === 'none') {{\n",
       "            console.log([gd, 'removed!']);\n",
       "            Plotly.purge(gd);\n",
       "            observer.disconnect();\n",
       "        }}\n",
       "}});\n",
       "\n",
       "// Listen for the removal of the full notebook cells\n",
       "var notebookContainer = gd.closest('#notebook-container');\n",
       "if (notebookContainer) {{\n",
       "    x.observe(notebookContainer, {childList: true});\n",
       "}}\n",
       "\n",
       "// Listen for the clearing of the current output cell\n",
       "var outputEl = gd.closest('.output');\n",
       "if (outputEl) {{\n",
       "    x.observe(outputEl, {childList: true});\n",
       "}}\n",
       "\n",
       "                        })\n",
       "                };\n",
       "                });\n",
       "            </script>\n",
       "        </div>"
      ]
     },
     "metadata": {},
     "output_type": "display_data"
    },
    {
     "data": {
      "application/vnd.plotly.v1+json": {
       "config": {
        "linkText": "Export to plot.ly",
        "plotlyServerURL": "https://plot.ly",
        "showLink": false
       },
       "data": [
        {
         "marker": {
          "color": "#1F77B4",
          "line": {
           "width": 1
          }
         },
         "opacity": 1,
         "orientation": "v",
         "type": "bar",
         "uid": "96a9532c-a938-4c6d-bd1e-ad0d22aea03e",
         "x": [
          0.3651953360710403,
          0.37258377777764484,
          0.3799722194842493,
          0.38736066119085377,
          0.3947491028974583,
          0.40213754460406276,
          0.4095259863106673,
          0.41691442801727174,
          0.4243028697238762,
          0.43169131143048073
         ],
         "xaxis": "x",
         "y": [
          1,
          0,
          0,
          2,
          1,
          13,
          8,
          5,
          7,
          7
         ],
         "yaxis": "y"
        }
       ],
       "layout": {
        "autosize": false,
        "bargap": 0,
        "height": 288,
        "hovermode": "closest",
        "margin": {
         "b": 36,
         "l": 54,
         "pad": 0,
         "r": 43,
         "t": 34
        },
        "showlegend": false,
        "title": {
         "font": {
          "color": "#000000",
          "size": 12
         },
         "text": "Post-curvYPercentBack Histogram"
        },
        "width": 432,
        "xaxis": {
         "anchor": "y",
         "domain": [
          0,
          1
         ],
         "mirror": "ticks",
         "nticks": 10,
         "range": [
          0.35780689436443586,
          0.4390797531370852
         ],
         "showgrid": false,
         "showline": true,
         "side": "bottom",
         "tickfont": {
          "size": 10
         },
         "ticks": "inside",
         "title": {
          "font": {
           "color": "#000000",
           "size": 10
          },
          "text": "Post-curvYPercentBack"
         },
         "type": "linear",
         "zeroline": false
        },
        "yaxis": {
         "anchor": "x",
         "domain": [
          0,
          1
         ],
         "mirror": "ticks",
         "nticks": 8,
         "range": [
          0,
          13.65
         ],
         "showgrid": false,
         "showline": true,
         "side": "left",
         "tickfont": {
          "size": 10
         },
         "ticks": "inside",
         "title": {
          "font": {
           "color": "#000000",
           "size": 10
          },
          "text": "Frequency"
         },
         "type": "linear",
         "zeroline": false
        }
       }
      },
      "text/html": [
       "<div>\n",
       "        \n",
       "        \n",
       "            <div id=\"01b496b4-32bd-4e7a-b794-2bebcde85b0d\" class=\"plotly-graph-div\" style=\"height:288px; width:432px;\"></div>\n",
       "            <script type=\"text/javascript\">\n",
       "                require([\"plotly\"], function(Plotly) {\n",
       "                    window.PLOTLYENV=window.PLOTLYENV || {};\n",
       "                    window.PLOTLYENV.BASE_URL='https://plot.ly';\n",
       "                    \n",
       "                if (document.getElementById(\"01b496b4-32bd-4e7a-b794-2bebcde85b0d\")) {\n",
       "                    Plotly.newPlot(\n",
       "                        '01b496b4-32bd-4e7a-b794-2bebcde85b0d',\n",
       "                        [{\"marker\": {\"color\": \"#1F77B4\", \"line\": {\"width\": 1.0}}, \"opacity\": 1, \"orientation\": \"v\", \"type\": \"bar\", \"uid\": \"96a9532c-a938-4c6d-bd1e-ad0d22aea03e\", \"x\": [0.3651953360710403, 0.37258377777764484, 0.3799722194842493, 0.38736066119085377, 0.3947491028974583, 0.40213754460406276, 0.4095259863106673, 0.41691442801727174, 0.4243028697238762, 0.43169131143048073], \"xaxis\": \"x\", \"y\": [1.0, 0.0, 0.0, 2.0, 1.0, 13.0, 8.0, 5.0, 7.0, 7.0], \"yaxis\": \"y\"}],\n",
       "                        {\"autosize\": false, \"bargap\": 0.0, \"height\": 288, \"hovermode\": \"closest\", \"margin\": {\"b\": 36, \"l\": 54, \"pad\": 0, \"r\": 43, \"t\": 34}, \"showlegend\": false, \"title\": {\"font\": {\"color\": \"#000000\", \"size\": 12.0}, \"text\": \"Post-curvYPercentBack Histogram\"}, \"width\": 432, \"xaxis\": {\"anchor\": \"y\", \"domain\": [0.0, 1.0], \"mirror\": \"ticks\", \"nticks\": 10, \"range\": [0.35780689436443586, 0.4390797531370852], \"showgrid\": false, \"showline\": true, \"side\": \"bottom\", \"tickfont\": {\"size\": 10.0}, \"ticks\": \"inside\", \"title\": {\"font\": {\"color\": \"#000000\", \"size\": 10.0}, \"text\": \"Post-curvYPercentBack\"}, \"type\": \"linear\", \"zeroline\": false}, \"yaxis\": {\"anchor\": \"x\", \"domain\": [0.0, 1.0], \"mirror\": \"ticks\", \"nticks\": 8, \"range\": [0.0, 13.65], \"showgrid\": false, \"showline\": true, \"side\": \"left\", \"tickfont\": {\"size\": 10.0}, \"ticks\": \"inside\", \"title\": {\"font\": {\"color\": \"#000000\", \"size\": 10.0}, \"text\": \"Frequency\"}, \"type\": \"linear\", \"zeroline\": false}},\n",
       "                        {\"showLink\": false, \"linkText\": \"Export to plot.ly\", \"plotlyServerURL\": \"https://plot.ly\", \"responsive\": true}\n",
       "                    ).then(function(){\n",
       "                            \n",
       "var gd = document.getElementById('01b496b4-32bd-4e7a-b794-2bebcde85b0d');\n",
       "var x = new MutationObserver(function (mutations, observer) {{\n",
       "        var display = window.getComputedStyle(gd).display;\n",
       "        if (!display || display === 'none') {{\n",
       "            console.log([gd, 'removed!']);\n",
       "            Plotly.purge(gd);\n",
       "            observer.disconnect();\n",
       "        }}\n",
       "}});\n",
       "\n",
       "// Listen for the removal of the full notebook cells\n",
       "var notebookContainer = gd.closest('#notebook-container');\n",
       "if (notebookContainer) {{\n",
       "    x.observe(notebookContainer, {childList: true});\n",
       "}}\n",
       "\n",
       "// Listen for the clearing of the current output cell\n",
       "var outputEl = gd.closest('.output');\n",
       "if (outputEl) {{\n",
       "    x.observe(outputEl, {childList: true});\n",
       "}}\n",
       "\n",
       "                        })\n",
       "                };\n",
       "                });\n",
       "            </script>\n",
       "        </div>"
      ]
     },
     "metadata": {},
     "output_type": "display_data"
    },
    {
     "name": "stderr",
     "output_type": "stream",
     "text": [
      "/home/dstow/.local/lib/python3.6/site-packages/plotly/matplotlylib/renderer.py:487: UserWarning:\n",
      "\n",
      "I found a path object that I don't think is part of a bar chart. Ignoring.\n",
      "\n"
     ]
    },
    {
     "data": {
      "application/vnd.plotly.v1+json": {
       "config": {
        "linkText": "Export to plot.ly",
        "plotlyServerURL": "https://plot.ly",
        "showLink": false
       },
       "data": [
        {
         "marker": {
          "color": "rgba(31, 119, 180, 0.5)",
          "line": {
           "width": 1
          }
         },
         "opacity": 0.5,
         "orientation": "v",
         "type": "bar",
         "uid": "9f325060-17f3-4684-9cab-092d42d85576",
         "x": [
          0.36752379069461794,
          0.37956914164837763,
          0.3916144926021373,
          0.40365984355589696,
          0.41570519450965665,
          0.42775054546341634,
          0.439795896417176,
          0.4518412473709357,
          0.46388659832469537
         ],
         "xaxis": "x",
         "y": [
          0,
          1,
          0,
          6,
          9,
          12,
          8,
          4,
          4
         ],
         "yaxis": "y"
        },
        {
         "marker": {
          "color": "rgba(255, 127, 14, 0.5)",
          "line": {
           "width": 1
          }
         },
         "opacity": 0.5,
         "orientation": "v",
         "type": "bar",
         "uid": "64e379ac-49f0-47eb-af2f-6c99bd6d0bdf",
         "x": [
          0.36752379069461794,
          0.37956914164837763,
          0.3916144926021373,
          0.40365984355589696,
          0.41570519450965665,
          0.42775054546341634,
          0.439795896417176,
          0.4518412473709357,
          0.46388659832469537
         ],
         "xaxis": "x",
         "y": [
          1,
          0,
          3,
          17,
          9,
          12,
          2,
          0,
          0
         ],
         "yaxis": "y"
        }
       ],
       "layout": {
        "annotations": [
         {
          "align": "left",
          "font": {
           "color": "#000000",
           "size": 10
          },
          "opacity": 1,
          "showarrow": false,
          "text": "Pre-curvYPercentBack",
          "x": 0.6311332227750138,
          "xanchor": "left",
          "xref": "paper",
          "y": 0.9236780619856748,
          "yanchor": "bottom",
          "yref": "paper"
         },
         {
          "align": "left",
          "font": {
           "color": "#000000",
           "size": 10
          },
          "opacity": 1,
          "showarrow": false,
          "text": "Post-curvYPercentBack",
          "x": 0.6311332227750138,
          "xanchor": "left",
          "xref": "paper",
          "y": 0.8545542796578705,
          "yanchor": "bottom",
          "yref": "paper"
         }
        ],
        "autosize": false,
        "bargap": 0,
        "height": 288,
        "hovermode": "closest",
        "margin": {
         "b": 36,
         "l": 54,
         "pad": 0,
         "r": 43,
         "t": 34
        },
        "showlegend": false,
        "title": {
         "font": {
          "color": "#000000",
          "size": 12
         },
         "text": "Pre-curvYPercentBack vs Post-curvYPercentBack Histogram"
        },
        "width": 432,
        "xaxis": {
         "anchor": "y",
         "domain": [
          0,
          1
         ],
         "mirror": "ticks",
         "nticks": 8,
         "range": [
          0.35608070728854624,
          0.47532968173076706
         ],
         "showgrid": false,
         "showline": true,
         "side": "bottom",
         "tickfont": {
          "size": 10
         },
         "ticks": "inside",
         "type": "linear",
         "zeroline": false
        },
        "yaxis": {
         "anchor": "x",
         "domain": [
          0,
          1
         ],
         "mirror": "ticks",
         "nticks": 10,
         "range": [
          0,
          17.85
         ],
         "showgrid": false,
         "showline": true,
         "side": "left",
         "tickfont": {
          "size": 10
         },
         "ticks": "inside",
         "title": {
          "font": {
           "color": "#000000",
           "size": 10
          },
          "text": "Frequency"
         },
         "type": "linear",
         "zeroline": false
        }
       }
      },
      "text/html": [
       "<div>\n",
       "        \n",
       "        \n",
       "            <div id=\"c0d3c516-f364-4dc4-b084-d7b5d2d6995c\" class=\"plotly-graph-div\" style=\"height:288px; width:432px;\"></div>\n",
       "            <script type=\"text/javascript\">\n",
       "                require([\"plotly\"], function(Plotly) {\n",
       "                    window.PLOTLYENV=window.PLOTLYENV || {};\n",
       "                    window.PLOTLYENV.BASE_URL='https://plot.ly';\n",
       "                    \n",
       "                if (document.getElementById(\"c0d3c516-f364-4dc4-b084-d7b5d2d6995c\")) {\n",
       "                    Plotly.newPlot(\n",
       "                        'c0d3c516-f364-4dc4-b084-d7b5d2d6995c',\n",
       "                        [{\"marker\": {\"color\": \"rgba(31, 119, 180, 0.5)\", \"line\": {\"width\": 1.0}}, \"opacity\": 0.5, \"orientation\": \"v\", \"type\": \"bar\", \"uid\": \"9f325060-17f3-4684-9cab-092d42d85576\", \"x\": [0.36752379069461794, 0.37956914164837763, 0.3916144926021373, 0.40365984355589696, 0.41570519450965665, 0.42775054546341634, 0.439795896417176, 0.4518412473709357, 0.46388659832469537], \"xaxis\": \"x\", \"y\": [0.0, 1.0, 0.0, 6.0, 9.0, 12.0, 8.0, 4.0, 4.0], \"yaxis\": \"y\"}, {\"marker\": {\"color\": \"rgba(255, 127, 14, 0.5)\", \"line\": {\"width\": 1.0}}, \"opacity\": 0.5, \"orientation\": \"v\", \"type\": \"bar\", \"uid\": \"64e379ac-49f0-47eb-af2f-6c99bd6d0bdf\", \"x\": [0.36752379069461794, 0.37956914164837763, 0.3916144926021373, 0.40365984355589696, 0.41570519450965665, 0.42775054546341634, 0.439795896417176, 0.4518412473709357, 0.46388659832469537], \"xaxis\": \"x\", \"y\": [1.0, 0.0, 3.0, 17.0, 9.0, 12.0, 2.0, 0.0, 0.0], \"yaxis\": \"y\"}],\n",
       "                        {\"annotations\": [{\"align\": \"left\", \"font\": {\"color\": \"#000000\", \"size\": 10.0}, \"opacity\": 1, \"showarrow\": false, \"text\": \"Pre-curvYPercentBack\", \"x\": 0.6311332227750138, \"xanchor\": \"left\", \"xref\": \"paper\", \"y\": 0.9236780619856748, \"yanchor\": \"bottom\", \"yref\": \"paper\"}, {\"align\": \"left\", \"font\": {\"color\": \"#000000\", \"size\": 10.0}, \"opacity\": 1, \"showarrow\": false, \"text\": \"Post-curvYPercentBack\", \"x\": 0.6311332227750138, \"xanchor\": \"left\", \"xref\": \"paper\", \"y\": 0.8545542796578705, \"yanchor\": \"bottom\", \"yref\": \"paper\"}], \"autosize\": false, \"bargap\": 0.0, \"height\": 288, \"hovermode\": \"closest\", \"margin\": {\"b\": 36, \"l\": 54, \"pad\": 0, \"r\": 43, \"t\": 34}, \"showlegend\": false, \"title\": {\"font\": {\"color\": \"#000000\", \"size\": 12.0}, \"text\": \"Pre-curvYPercentBack vs Post-curvYPercentBack Histogram\"}, \"width\": 432, \"xaxis\": {\"anchor\": \"y\", \"domain\": [0.0, 1.0], \"mirror\": \"ticks\", \"nticks\": 8, \"range\": [0.35608070728854624, 0.47532968173076706], \"showgrid\": false, \"showline\": true, \"side\": \"bottom\", \"tickfont\": {\"size\": 10.0}, \"ticks\": \"inside\", \"type\": \"linear\", \"zeroline\": false}, \"yaxis\": {\"anchor\": \"x\", \"domain\": [0.0, 1.0], \"mirror\": \"ticks\", \"nticks\": 10, \"range\": [0.0, 17.85], \"showgrid\": false, \"showline\": true, \"side\": \"left\", \"tickfont\": {\"size\": 10.0}, \"ticks\": \"inside\", \"title\": {\"font\": {\"color\": \"#000000\", \"size\": 10.0}, \"text\": \"Frequency\"}, \"type\": \"linear\", \"zeroline\": false}},\n",
       "                        {\"showLink\": false, \"linkText\": \"Export to plot.ly\", \"plotlyServerURL\": \"https://plot.ly\", \"responsive\": true}\n",
       "                    ).then(function(){\n",
       "                            \n",
       "var gd = document.getElementById('c0d3c516-f364-4dc4-b084-d7b5d2d6995c');\n",
       "var x = new MutationObserver(function (mutations, observer) {{\n",
       "        var display = window.getComputedStyle(gd).display;\n",
       "        if (!display || display === 'none') {{\n",
       "            console.log([gd, 'removed!']);\n",
       "            Plotly.purge(gd);\n",
       "            observer.disconnect();\n",
       "        }}\n",
       "}});\n",
       "\n",
       "// Listen for the removal of the full notebook cells\n",
       "var notebookContainer = gd.closest('#notebook-container');\n",
       "if (notebookContainer) {{\n",
       "    x.observe(notebookContainer, {childList: true});\n",
       "}}\n",
       "\n",
       "// Listen for the clearing of the current output cell\n",
       "var outputEl = gd.closest('.output');\n",
       "if (outputEl) {{\n",
       "    x.observe(outputEl, {childList: true});\n",
       "}}\n",
       "\n",
       "                        })\n",
       "                };\n",
       "                });\n",
       "            </script>\n",
       "        </div>"
      ]
     },
     "metadata": {},
     "output_type": "display_data"
    },
    {
     "name": "stdout",
     "output_type": "stream",
     "text": [
      "curvFront -0.0020852845959806313 0.008182302701232911\n",
      "curvXFront -0.0004931099248177323 0.00340843525551994\n",
      "curvYFront -0.0013321700371561216 0.002961233479580124\n",
      "curvZFront -0.00047239283088039934 0.0037874289150068696\n",
      "curvXPercentFront 0.003492931543235413 0.02288029979373713\n",
      "curvYPercentFront -0.009237474200078756 0.03249864836985477\n",
      "curvZPercentFront 0.01248992231981625 0.02378696204424603\n",
      "curvBack -0.004099231509563466 0.0065657124301686355\n",
      "curvXBack -0.001451211912085478 0.002685758647087778\n",
      "curvYBack -0.0018613303272464652 0.002586818820173994\n",
      "curvZBack -0.0017194157502959174 0.002690831053273597\n",
      "curvXPercentBack 0.00684238096499127 0.01861600281091262\n",
      "curvYPercentBack -0.017868049464668415 0.02068261616723124\n",
      "curvZPercentBack 0.0045686231263215105 0.017735053935890782\n"
     ]
    }
   ],
   "source": [
    "print(len(resultListPre))\n",
    "print(len(resultListPost))\n",
    "\n",
    "significance = 0.05\n",
    "\n",
    "groupResultsPre=GroupResults(resultListPre)\n",
    "groupResultsPost=GroupResults(resultListPost)\n",
    "deltaResults=DeltaResults(resultListPre,resultListPost)\n",
    "\n",
    "for currMetric in groupResultsPre.metrics:\n",
    "    gc=GroupCompare(groupResultsPre,groupResultsPost,currMetric)\n",
    "    #if(gc.p<significance):\n",
    "    #    print(\"Metric:\",gc.metric,\" p:\",gc.p)\n",
    "    print(gc.metric,\",\",gc.p)\n",
    "    \n",
    "fig=go.Figure()\n",
    "fig.add_trace(go.Scatter(x=groupResultsPre.results[\"curvYPercentBack\"],y=groupResultsPre.results[\"curvYPercentBack\"],mode='markers',name='Pre'))\n",
    "fig.add_trace(go.Scatter(x=groupResultsPost.results[\"curvYPercentBack\"],y=groupResultsPost.results[\"curvYPercentBack\"],mode='markers',name='Post'))\n",
    "fig.show()\n",
    "\n",
    "plot_hist(groupResultsPre.results[\"curvYPercentBack\"],\"Pre-curvYPercentBack\")\n",
    "plot_hist(groupResultsPost.results[\"curvYPercentBack\"],\"Post-curvYPercentBack\")\n",
    "plot_hist_double(groupResultsPre.results[\"curvYPercentBack\"],\"Pre-curvYPercentBack\",groupResultsPost.results[\"curvYPercentBack\"],\"Post-curvYPercentBack\")\n",
    "\n",
    "for currMetric in deltaResults.metrics:\n",
    "    print(currMetric,deltaResults.means[currMetric],deltaResults.stds[currMetric])"
   ]
  },
  {
   "cell_type": "code",
   "execution_count": null,
   "metadata": {
    "scrolled": true
   },
   "outputs": [],
   "source": []
  },
  {
   "cell_type": "code",
   "execution_count": null,
   "metadata": {
    "scrolled": true
   },
   "outputs": [],
   "source": []
  },
  {
   "cell_type": "code",
   "execution_count": null,
   "metadata": {
    "scrolled": true
   },
   "outputs": [],
   "source": []
  },
  {
   "cell_type": "code",
   "execution_count": 3,
   "metadata": {
    "scrolled": false
   },
   "outputs": [
    {
     "ename": "NameError",
     "evalue": "name 'obj_data_to_Mesh' is not defined",
     "output_type": "error",
     "traceback": [
      "\u001b[0;31m---------------------------------------------------------------------------\u001b[0m",
      "\u001b[0;31mNameError\u001b[0m                                 Traceback (most recent call last)",
      "\u001b[0;32m<ipython-input-3-f659171868d1>\u001b[0m in \u001b[0;36m<module>\u001b[0;34m\u001b[0m\n\u001b[1;32m     11\u001b[0m     \u001b[0mobjFileName\u001b[0m \u001b[0;34m=\u001b[0m \u001b[0;34m\"test_simp.obj\"\u001b[0m\u001b[0;34m\u001b[0m\u001b[0;34m\u001b[0m\u001b[0m\n\u001b[1;32m     12\u001b[0m     \u001b[0mobjFile\u001b[0m \u001b[0;34m=\u001b[0m \u001b[0mopen\u001b[0m\u001b[0;34m(\u001b[0m\u001b[0mobjFileName\u001b[0m\u001b[0;34m,\u001b[0m\u001b[0;34m\"rt\"\u001b[0m\u001b[0;34m)\u001b[0m\u001b[0;34m\u001b[0m\u001b[0;34m\u001b[0m\u001b[0m\n\u001b[0;32m---> 13\u001b[0;31m     \u001b[0mtestmesh\u001b[0m \u001b[0;34m=\u001b[0m \u001b[0mobj_data_to_Mesh\u001b[0m\u001b[0;34m(\u001b[0m\u001b[0mobjFile\u001b[0m\u001b[0;34m.\u001b[0m\u001b[0mread\u001b[0m\u001b[0;34m(\u001b[0m\u001b[0;34m)\u001b[0m\u001b[0;34m)\u001b[0m\u001b[0;34m\u001b[0m\u001b[0;34m\u001b[0m\u001b[0m\n\u001b[0m\u001b[1;32m     14\u001b[0m     \u001b[0mprint\u001b[0m\u001b[0;34m(\u001b[0m\u001b[0;34m\"Vertices: \"\u001b[0m\u001b[0;34m,\u001b[0m\u001b[0mtestmesh\u001b[0m\u001b[0;34m.\u001b[0m\u001b[0mvertices\u001b[0m\u001b[0;34m.\u001b[0m\u001b[0mshape\u001b[0m\u001b[0;34m)\u001b[0m\u001b[0;34m\u001b[0m\u001b[0;34m\u001b[0m\u001b[0m\n\u001b[1;32m     15\u001b[0m     \u001b[0mprint\u001b[0m\u001b[0;34m(\u001b[0m\u001b[0;34m\"Faces: \"\u001b[0m\u001b[0;34m,\u001b[0m\u001b[0mtestmesh\u001b[0m\u001b[0;34m.\u001b[0m\u001b[0mfaces\u001b[0m\u001b[0;34m.\u001b[0m\u001b[0mshape\u001b[0m\u001b[0;34m)\u001b[0m\u001b[0;34m\u001b[0m\u001b[0;34m\u001b[0m\u001b[0m\n",
      "\u001b[0;31mNameError\u001b[0m: name 'obj_data_to_Mesh' is not defined"
     ]
    }
   ],
   "source": [
    "#Loading example for reference. Disabled.\n",
    "\n",
    "if(True):\n",
    "\n",
    "    #Extract data from 3D mesh vertices\n",
    "\n",
    "    #testExamples\n",
    "    #Load file and check\n",
    "    init_notebook_mode(connected=True)\n",
    "    #objFileName = \"test_robyn_simp.obj\"\n",
    "    objFileName = \"test_simp.obj\"\n",
    "    objFile = open(objFileName,\"rt\")\n",
    "    testmesh = obj_data_to_Mesh(objFile.read())\n",
    "    print(\"Vertices: \",testmesh.vertices.shape)\n",
    "    print(\"Faces: \",testmesh.faces.shape)\n"
   ]
  },
  {
   "cell_type": "code",
   "execution_count": 9,
   "metadata": {
    "scrolled": false
   },
   "outputs": [],
   "source": [
    "#Display result examples for reference. Disabled.\n",
    "\n",
    "if(True):\n",
    "\n",
    "    plot_hist(np.log(testmesh.vertexDirectionalCurvatures[:,0])+0.0000000005,\"Log(X-Curvature)\")\n",
    "    plot_hist(np.log(testmesh.vertexDirectionalCurvatures[:,1])+0.0000000005,\"Log(Y-Curvature)\")\n",
    "    plot_hist(np.log(testmesh.vertexDirectionalCurvatures[:,2])+0.0000000005,\"Log(Z-Curvature)\")\n",
    "\n",
    "    #Plot with color based on vertex position\n",
    "    #Prepare color values based on x/y/z coordinate\n",
    "    vertexColors=np.ones_like(testmesh.vertices)\n",
    "    np.copyto(vertexColors,testmesh.vertices)\n",
    "    vertexColors[:,0]-=testmesh.minX\n",
    "    vertexColors[:,0]/=testmesh.rangeX\n",
    "    vertexColors[:,1]-=testmesh.minY\n",
    "    vertexColors[:,1]/=testmesh.rangeY\n",
    "    vertexColors[:,2]-=testmesh.minZ\n",
    "    vertexColors[:,2]/=testmesh.rangeZ\n",
    "\n",
    "    plot_mesh_custom(testmesh,vertexColors,\"Vertex Position\")\n",
    "    #Plot with color based on normal vector direction\n",
    "    #Add one and divide by two to map from [-1,1] to [0,1]\n",
    "    vertexColors=(testmesh.vertexNormals+1.0)/2.0\n",
    "    plot_mesh_custom(testmesh,vertexColors,\"Vertex Normals\")\n",
    "    plot_mesh_colorscale(testmesh,testmesh.vertexElevation,\"Vertex Elevation\",\"Elevation (Degrees)\")\n",
    "    plot_mesh_colorscale(testmesh,testmesh.vertexAzimuth,\"Vertex Azimuth\",\"Azimuth (Degrees)\")\n",
    "    #Plot with color based on curvature magnitude, log scale\n",
    "    plot_mesh_colorscale(testmesh,np.log(testmesh.vertexCurvatures),\"Vertex Curvature (Log)\",\"Log(Curvature)\")\n",
    "\n",
    "    #Plot with color based on each direction curvature magnitude, log scale\n",
    "\n",
    "    plot_mesh_colorscale(testmesh,np.log(testmesh.vertexDirectionalCurvatures[:,0]),\"Vertex X-Curvature (Log)\",\"Log(X-Curvature)\")\n",
    "    plot_mesh_colorscale(testmesh,np.log(testmesh.vertexDirectionalCurvatures[:,1]),\"Vertex Y-Curvature (Log)\",\"Log(Y-Curvature)\")\n",
    "    plot_mesh_colorscale(testmesh,np.log(testmesh.vertexDirectionalCurvatures[:,2]),\"Vertex Z-Curvature (Log)\",\"Log(Z-Curvature)\")"
   ]
  },
  {
   "cell_type": "code",
   "execution_count": null,
   "metadata": {
    "scrolled": true
   },
   "outputs": [],
   "source": []
  },
  {
   "cell_type": "markdown",
   "metadata": {},
   "source": [
    "Last Updated: 9/2/19"
   ]
  }
 ],
 "metadata": {
  "kernelspec": {
   "display_name": "Python 3",
   "language": "python",
   "name": "python3"
  },
  "language_info": {
   "codemirror_mode": {
    "name": "ipython",
    "version": 3
   },
   "file_extension": ".py",
   "mimetype": "text/x-python",
   "name": "python",
   "nbconvert_exporter": "python",
   "pygments_lexer": "ipython3",
   "version": "3.6.8"
  }
 },
 "nbformat": 4,
 "nbformat_minor": 2
}
